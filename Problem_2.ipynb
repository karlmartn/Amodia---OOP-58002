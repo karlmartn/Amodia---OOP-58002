{
  "nbformat": 4,
  "nbformat_minor": 0,
  "metadata": {
    "colab": {
      "name": "Problem 2",
      "provenance": [],
      "collapsed_sections": [],
      "authorship_tag": "ABX9TyMSe2smIaSy4/UoKs9gX21o",
      "include_colab_link": true
    },
    "kernelspec": {
      "name": "python3",
      "display_name": "Python 3"
    },
    "language_info": {
      "name": "python"
    }
  },
  "cells": [
    {
      "cell_type": "markdown",
      "metadata": {
        "id": "view-in-github",
        "colab_type": "text"
      },
      "source": [
        "<a href=\"https://colab.research.google.com/github/karlmartn/Amodia---OOP-58002/blob/main/Problem_2.ipynb\" target=\"_parent\"><img src=\"https://colab.research.google.com/assets/colab-badge.svg\" alt=\"Open In Colab\"/></a>"
      ]
    },
    {
      "cell_type": "code",
      "source": [
        "class Student:\n",
        "  def __init__(self, name, studentnumber, age, course):\n",
        "    self.name = name\n",
        "    self.studentnumber = studentnumber\n",
        "    self.age = age\n",
        "    self.course = course\n",
        "\n",
        "  def show(self):\n",
        "    print(\"Adamson University Student\" + self.name + self.studentnumber + self.age + self.course)\n",
        "    st1  = Student(\"Karl Martin Amodia\" ,202116629 ,18 , \"BS CPE\") \n",
        "    st1 = show()"
      ],
      "metadata": {
        "id": "ve-7ISMwOe6C"
      },
      "execution_count": null,
      "outputs": []
    }
  ]
}