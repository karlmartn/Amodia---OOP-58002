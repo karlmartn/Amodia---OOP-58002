{
  "nbformat": 4,
  "nbformat_minor": 0,
  "metadata": {
    "colab": {
      "name": "Laboratory 1",
      "provenance": [],
      "authorship_tag": "ABX9TyN4YSzryw8+xwIpIvdBaAJs",
      "include_colab_link": true
    },
    "kernelspec": {
      "name": "python3",
      "display_name": "Python 3"
    },
    "language_info": {
      "name": "python"
    }
  },
  "cells": [
    {
      "cell_type": "markdown",
      "metadata": {
        "id": "view-in-github",
        "colab_type": "text"
      },
      "source": [
        "<a href=\"https://colab.research.google.com/github/karlmartn/Amodia---OOP-58002/blob/main/Laboratory_1.ipynb\" target=\"_parent\"><img src=\"https://colab.research.google.com/assets/colab-badge.svg\" alt=\"Open In Colab\"/></a>"
      ]
    },
    {
      "cell_type": "code",
      "execution_count": null,
      "metadata": {
        "colab": {
          "base_uri": "https://localhost:8080/"
        },
        "id": "7bKuO9UdUz0j",
        "outputId": "fd845edd-edb9-4d06-adbe-b1f0c1249908"
      },
      "outputs": [
        {
          "output_type": "stream",
          "name": "stdout",
          "text": [
            "Enter a number18\n",
            "qualified age\n"
          ]
        }
      ],
      "source": [
        "#example 1\n",
        "x = float (input(\"Enter a number:\")) \n",
        "if x > 17 :\n",
        "  print (\"qualified age\")\n",
        "else :\n",
        "  print (\"not qualified\")"
      ]
    },
    {
      "cell_type": "code",
      "source": [
        "#example 2\n",
        "num = float(input(\"Enter a number:\")) \n",
        "if num > 0:\n",
        "   print(\"Positive number\")\n",
        "elif num == 0:\n",
        "   print(\"Zero\")\n",
        "else:\n",
        "   print(\"Negative number\")\n"
      ],
      "metadata": {
        "colab": {
          "base_uri": "https://localhost:8080/"
        },
        "id": "B4awiN6TlIwm",
        "outputId": "a81a97d1-2b91-4b30-a205-63f55fe53e26"
      },
      "execution_count": null,
      "outputs": [
        {
          "output_type": "stream",
          "name": "stdout",
          "text": [
            "Enter a number: -1\n",
            "Negative number\n"
          ]
        }
      ]
    },
    {
      "cell_type": "code",
      "source": [
        "#example 3\n",
        "grade = float(input(\"enter the grade:\"))\n",
        "if grade >= 75:\n",
        "    print(\"Passing grade\")\n",
        "elif grade == 74:\n",
        "    print(\"Remedial\")\n",
        "else:\n",
        "    print(\"Failing grade\")"
      ],
      "metadata": {
        "colab": {
          "base_uri": "https://localhost:8080/"
        },
        "id": "EWeZwJJBlfrG",
        "outputId": "94db9fbe-e16f-44ef-e4da-a60871b811c0"
      },
      "execution_count": null,
      "outputs": [
        {
          "output_type": "stream",
          "name": "stdout",
          "text": [
            "enter the grade:74\n",
            "Remedial\n"
          ]
        }
      ]
    },
    {
      "cell_type": "code",
      "source": [
        "z = 'hello'\n",
        "i = 1\n",
        "while i < 11 :\n",
        "  print (z, i)\n",
        "  i +=1\n"
      ],
      "metadata": {
        "colab": {
          "base_uri": "https://localhost:8080/"
        },
        "id": "uP7RUqmBpiCJ",
        "outputId": "c44ea684-0ae9-4ab4-ced1-5921537ba45f"
      },
      "execution_count": null,
      "outputs": [
        {
          "output_type": "stream",
          "name": "stdout",
          "text": [
            "hello 1\n",
            "hello 2\n",
            "hello 3\n",
            "hello 4\n",
            "hello 5\n",
            "hello 6\n",
            "hello 7\n",
            "hello 8\n",
            "hello 9\n",
            "hello 10\n"
          ]
        }
      ]
    },
    {
      "cell_type": "code",
      "source": [
        "y = 3\n",
        "while y <11:\n",
        "  print (y)\n",
        "  y+=1"
      ],
      "metadata": {
        "colab": {
          "base_uri": "https://localhost:8080/"
        },
        "id": "bqqlzEU5vjV_",
        "outputId": "53c87838-0c2b-41e2-d5b0-28ab56b86fab"
      },
      "execution_count": null,
      "outputs": [
        {
          "output_type": "stream",
          "name": "stdout",
          "text": [
            "3\n",
            "4\n",
            "5\n",
            "6\n",
            "7\n",
            "8\n",
            "9\n",
            "10\n"
          ]
        }
      ]
    }
  ]
}